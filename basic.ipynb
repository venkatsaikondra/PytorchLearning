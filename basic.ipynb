{
 "cells": [
  {
   "cell_type": "code",
   "id": "initial_id",
   "metadata": {
    "collapsed": true,
    "ExecuteTime": {
     "end_time": "2025-10-22T18:16:42.902903Z",
     "start_time": "2025-10-22T18:16:39.824568Z"
    }
   },
   "source": [
    "import torch\n",
    "import numpy as np\n",
    "np.set_printoptions(precision=3)\n",
    "a=[1,2,3]\n",
    "b=np.array([4,5,6])\n",
    "t_a=torch.tensor(a)\n",
    "t_b=torch.from_numpy(b)\n",
    "print(a)\n",
    "print(b)\n",
    "print(t_a)\n",
    "print(t_b)\n"
   ],
   "outputs": [
    {
     "name": "stdout",
     "output_type": "stream",
     "text": [
      "[1, 2, 3]\n",
      "[4 5 6]\n",
      "tensor([1, 2, 3])\n",
      "tensor([4, 5, 6])\n"
     ]
    }
   ],
   "execution_count": 1
  },
  {
   "metadata": {
    "ExecuteTime": {
     "end_time": "2025-10-22T18:19:51.177308Z",
     "start_time": "2025-10-22T18:19:51.164161Z"
    }
   },
   "cell_type": "code",
   "source": "t_a.shape",
   "id": "8180aedd7156f73f",
   "outputs": [
    {
     "data": {
      "text/plain": [
       "torch.Size([3])"
      ]
     },
     "execution_count": 3,
     "metadata": {},
     "output_type": "execute_result"
    }
   ],
   "execution_count": 3
  },
  {
   "metadata": {
    "ExecuteTime": {
     "end_time": "2025-10-22T18:20:40.904133Z",
     "start_time": "2025-10-22T18:20:40.843946Z"
    }
   },
   "cell_type": "code",
   "source": [
    "t_ones=torch.ones(2,3)\n",
    "print(t_ones)"
   ],
   "id": "b969073dcafbc136",
   "outputs": [
    {
     "name": "stdout",
     "output_type": "stream",
     "text": [
      "tensor([[1., 1., 1.],\n",
      "        [1., 1., 1.]])\n"
     ]
    }
   ],
   "execution_count": 4
  },
  {
   "metadata": {
    "ExecuteTime": {
     "end_time": "2025-10-22T18:21:21.925766Z",
     "start_time": "2025-10-22T18:21:21.916715Z"
    }
   },
   "cell_type": "code",
   "source": [
    "rand_tensor=torch.rand(2,3)\n",
    "print(rand_tensor)"
   ],
   "id": "7121a248dcd5a18b",
   "outputs": [
    {
     "name": "stdout",
     "output_type": "stream",
     "text": [
      "tensor([[0.5275, 0.7840, 0.1179],\n",
      "        [0.0753, 0.5696, 0.9660]])\n"
     ]
    }
   ],
   "execution_count": 5
  },
  {
   "metadata": {
    "ExecuteTime": {
     "end_time": "2025-10-22T18:21:53.241513Z",
     "start_time": "2025-10-22T18:21:53.236540Z"
    }
   },
   "cell_type": "code",
   "source": "t_a.dtype\n",
   "id": "8826afff49b9e9ae",
   "outputs": [
    {
     "data": {
      "text/plain": [
       "torch.int64"
      ]
     },
     "execution_count": 6,
     "metadata": {},
     "output_type": "execute_result"
    }
   ],
   "execution_count": 6
  },
  {
   "metadata": {
    "ExecuteTime": {
     "end_time": "2025-10-22T18:22:41.012861Z",
     "start_time": "2025-10-22T18:22:41.000962Z"
    }
   },
   "cell_type": "code",
   "source": [
    "t_a_new=t_a.to(torch.int64)\n",
    "t_a_new.shape\n",
    "t_a_new.dtype"
   ],
   "id": "ccf776f994edab18",
   "outputs": [
    {
     "data": {
      "text/plain": [
       "torch.int64"
      ]
     },
     "execution_count": 8,
     "metadata": {},
     "output_type": "execute_result"
    }
   ],
   "execution_count": 8
  },
  {
   "metadata": {
    "ExecuteTime": {
     "end_time": "2025-10-22T18:24:20.309756Z",
     "start_time": "2025-10-22T18:24:20.298254Z"
    }
   },
   "cell_type": "code",
   "source": [
    "t=torch.rand(3, 5)\n",
    "t_tr=torch.transpose(t,0,1)\n",
    "print(t.shape,' --> ',t_tr.shape)"
   ],
   "id": "c87f8e7fe108f6d0",
   "outputs": [
    {
     "name": "stdout",
     "output_type": "stream",
     "text": [
      "torch.Size([3, 5])  -->  torch.Size([5, 3])\n"
     ]
    }
   ],
   "execution_count": 9
  },
  {
   "metadata": {
    "ExecuteTime": {
     "end_time": "2025-10-22T18:26:46.261724Z",
     "start_time": "2025-10-22T18:26:46.240367Z"
    }
   },
   "cell_type": "code",
   "source": [
    "t1=2*torch.rand(5,2)-1\n",
    "t2=torch.normal(mean=0,std=1,size=(5,2))\n",
    "t3=t1*t2\n",
    "print(t3)\n"
   ],
   "id": "7d94a6d5d26835c0",
   "outputs": [
    {
     "name": "stdout",
     "output_type": "stream",
     "text": [
      "tensor([[-0.1521, -0.6653],\n",
      "        [ 0.5244, -0.4380],\n",
      "        [ 0.1234,  0.6596],\n",
      "        [ 0.0713, -0.1793],\n",
      "        [-0.0404, -0.0814]])\n"
     ]
    }
   ],
   "execution_count": 10
  },
  {
   "metadata": {
    "ExecuteTime": {
     "end_time": "2025-10-22T18:27:58.461691Z",
     "start_time": "2025-10-22T18:27:58.446170Z"
    }
   },
   "cell_type": "code",
   "source": [
    "t4=torch.mean(t1,axis=0)\n",
    "print(t4)"
   ],
   "id": "3d5502f3186a182d",
   "outputs": [
    {
     "name": "stdout",
     "output_type": "stream",
     "text": [
      "tensor([-0.5369, -0.1499])\n"
     ]
    }
   ],
   "execution_count": 11
  },
  {
   "metadata": {
    "ExecuteTime": {
     "end_time": "2025-10-22T18:29:19.397762Z",
     "start_time": "2025-10-22T18:29:19.382115Z"
    }
   },
   "cell_type": "code",
   "source": [
    "t5=torch.matmul(t1,torch.transpose(t2,0,1))\n",
    "print(t5)"
   ],
   "id": "86966470b7e7d835",
   "outputs": [
    {
     "name": "stdout",
     "output_type": "stream",
     "text": [
      "tensor([[-8.1738e-01,  1.6218e+00, -7.1789e-01,  1.4787e-01,  3.3686e-01],\n",
      "        [-8.3094e-01,  8.6338e-02, -5.3244e-01,  1.1324e-01,  4.4111e-01],\n",
      "        [ 1.2369e+00, -5.3138e-02,  7.8301e-01, -1.6677e-01, -6.6135e-01],\n",
      "        [ 1.3256e+00,  2.9238e+00,  4.6265e-01, -1.0799e-01, -8.9703e-01],\n",
      "        [ 2.3735e-03,  1.9084e+00, -2.3959e-01,  4.4978e-02, -1.2179e-01]])\n"
     ]
    }
   ],
   "execution_count": 13
  },
  {
   "metadata": {
    "ExecuteTime": {
     "end_time": "2025-10-22T18:31:59.793851Z",
     "start_time": "2025-10-22T18:31:59.780696Z"
    }
   },
   "cell_type": "code",
   "source": [
    "t=torch.rand(6)\n",
    "print(t)\n",
    "t_split=torch.chunk(t,3)\n",
    "[item.numpy() for item in t_split]\n"
   ],
   "id": "4151eaa9e0eaa0f5",
   "outputs": [
    {
     "name": "stdout",
     "output_type": "stream",
     "text": [
      "tensor([0.2510, 0.3990, 0.2376, 0.9151, 0.2385, 0.5418])\n"
     ]
    },
    {
     "data": {
      "text/plain": [
       "[array([0.2509508, 0.3990308], dtype=float32),\n",
       " array([0.23764688, 0.9150907 ], dtype=float32),\n",
       " array([0.23849499, 0.5417502 ], dtype=float32)]"
      ]
     },
     "execution_count": 15,
     "metadata": {},
     "output_type": "execute_result"
    }
   ],
   "execution_count": 15
  },
  {
   "metadata": {
    "ExecuteTime": {
     "end_time": "2025-10-22T18:38:03.161247Z",
     "start_time": "2025-10-22T18:38:03.133677Z"
    }
   },
   "cell_type": "code",
   "source": [
    "t = torch.rand(6)\n",
    "print(t)\n",
    "t_split = torch.split(t, [3, 2, 1])\n",
    "[item.numpy() for item in t_split]\n"
   ],
   "id": "5ce9b76fa981c8ec",
   "outputs": [
    {
     "name": "stdout",
     "output_type": "stream",
     "text": [
      "tensor([0.3473, 0.6348, 0.0044, 0.8083, 0.5622, 0.0375])\n"
     ]
    },
    {
     "data": {
      "text/plain": [
       "[array([0.3472582 , 0.6348459 , 0.00435197], dtype=float32),\n",
       " array([0.808253  , 0.56218183], dtype=float32),\n",
       " array([0.03749382], dtype=float32)]"
      ]
     },
     "execution_count": 22,
     "metadata": {},
     "output_type": "execute_result"
    }
   ],
   "execution_count": 22
  },
  {
   "metadata": {
    "ExecuteTime": {
     "end_time": "2025-10-22T18:36:33.870515Z",
     "start_time": "2025-10-22T18:36:33.854413Z"
    }
   },
   "cell_type": "code",
   "source": [
    "a=torch.ones(3)\n",
    "b=torch.zeros(3)\n",
    "c=torch.cat([a,b],axis=0)\n",
    "print(c)"
   ],
   "id": "f79b22b40d8bdfa7",
   "outputs": [
    {
     "name": "stdout",
     "output_type": "stream",
     "text": [
      "tensor([1., 1., 1., 0., 0., 0.])\n"
     ]
    }
   ],
   "execution_count": 21
  },
  {
   "metadata": {
    "ExecuteTime": {
     "end_time": "2025-10-22T18:38:48.745595Z",
     "start_time": "2025-10-22T18:38:48.730986Z"
    }
   },
   "cell_type": "code",
   "source": [
    "s=torch.stack([a,b],axis=1)\n",
    "print(s)"
   ],
   "id": "3cda015b3f903e24",
   "outputs": [
    {
     "name": "stdout",
     "output_type": "stream",
     "text": [
      "tensor([[1., 0.],\n",
      "        [1., 0.],\n",
      "        [1., 0.]])\n"
     ]
    }
   ],
   "execution_count": 23
  },
  {
   "metadata": {},
   "cell_type": "code",
   "outputs": [],
   "execution_count": null,
   "source": "",
   "id": "f209bb2665df2015"
  }
 ],
 "metadata": {
  "kernelspec": {
   "display_name": "Python 3",
   "language": "python",
   "name": "python3"
  },
  "language_info": {
   "codemirror_mode": {
    "name": "ipython",
    "version": 2
   },
   "file_extension": ".py",
   "mimetype": "text/x-python",
   "name": "python",
   "nbconvert_exporter": "python",
   "pygments_lexer": "ipython2",
   "version": "2.7.6"
  }
 },
 "nbformat": 4,
 "nbformat_minor": 5
}
