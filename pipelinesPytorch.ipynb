{
 "cells": [
  {
   "cell_type": "code",
   "id": "initial_id",
   "metadata": {
    "collapsed": true,
    "ExecuteTime": {
     "end_time": "2025-10-24T08:29:36.227133Z",
     "start_time": "2025-10-24T08:29:36.222047Z"
    }
   },
   "source": [
    "import torch\n",
    "from torch.utils.data import DataLoader\n",
    "t=torch.arange(6,dtype=torch.float32)\n",
    "data_loader=DataLoader(t)"
   ],
   "outputs": [],
   "execution_count": 2
  },
  {
   "metadata": {
    "ExecuteTime": {
     "end_time": "2025-10-24T08:29:46.301619Z",
     "start_time": "2025-10-24T08:29:46.291066Z"
    }
   },
   "cell_type": "code",
   "source": [
    "for i in data_loader:\n",
    "    print(i)"
   ],
   "id": "3c825c682fee1d",
   "outputs": [
    {
     "name": "stdout",
     "output_type": "stream",
     "text": [
      "tensor([0.])\n",
      "tensor([1.])\n",
      "tensor([2.])\n",
      "tensor([3.])\n",
      "tensor([4.])\n",
      "tensor([5.])\n"
     ]
    }
   ],
   "execution_count": 3
  },
  {
   "metadata": {
    "ExecuteTime": {
     "end_time": "2025-10-24T08:31:34.821510Z",
     "start_time": "2025-10-24T08:31:34.807102Z"
    }
   },
   "cell_type": "code",
   "source": [
    "data_loader=DataLoader(t,batch_size=3,drop_last=False)\n",
    "for i, batch in enumerate(data_loader,1):\n",
    "    print(f'batch {i}:', batch)\n"
   ],
   "id": "d5803d38db1eb513",
   "outputs": [
    {
     "name": "stdout",
     "output_type": "stream",
     "text": [
      "batch 1: tensor([0., 1., 2.])\n",
      "batch 2: tensor([3., 4., 5.])\n"
     ]
    }
   ],
   "execution_count": 4
  },
  {
   "metadata": {
    "ExecuteTime": {
     "end_time": "2025-10-24T08:33:55.778222Z",
     "start_time": "2025-10-24T08:33:55.765597Z"
    }
   },
   "cell_type": "code",
   "source": [
    "torch.manual_seed(1)\n",
    "t_x=torch.rand([4,3],dtype=torch.float32)\n",
    "t_y=torch.arange(4)"
   ],
   "id": "c3fb6398ad31aee8",
   "outputs": [],
   "execution_count": 5
  },
  {
   "metadata": {
    "ExecuteTime": {
     "end_time": "2025-10-24T08:36:54.184617Z",
     "start_time": "2025-10-24T08:36:54.176095Z"
    }
   },
   "cell_type": "code",
   "source": [
    "from torch.utils.data import Dataset\n",
    "class JointDataset(Dataset):\n",
    "    def __init__(self,x,y):\n",
    "        self.x=x\n",
    "        self.y=y\n",
    "    def __len__(self):\n",
    "        return len(self.x)\n",
    "    def __getitem__(self,idx):\n",
    "        return self.x[idx],self.y[idx]\n",
    "\n"
   ],
   "id": "596b0792a6a4dd4b",
   "outputs": [],
   "execution_count": 6
  },
  {
   "metadata": {
    "ExecuteTime": {
     "end_time": "2025-10-24T08:38:43.802519Z",
     "start_time": "2025-10-24T08:38:43.796771Z"
    }
   },
   "cell_type": "code",
   "source": "join_dataset=JointDataset(t_x,t_y)",
   "id": "55510941e6761ca2",
   "outputs": [],
   "execution_count": 7
  },
  {
   "metadata": {
    "ExecuteTime": {
     "end_time": "2025-10-24T08:39:33.068391Z",
     "start_time": "2025-10-24T08:39:33.051951Z"
    }
   },
   "cell_type": "code",
   "source": [
    "for arr in join_dataset:\n",
    "    print(' x: ', arr[0], ' y: ', arr[1])"
   ],
   "id": "85a032a0a390527d",
   "outputs": [
    {
     "name": "stdout",
     "output_type": "stream",
     "text": [
      " x:  tensor([0.7576, 0.2793, 0.4031])  y:  tensor(0)\n",
      " x:  tensor([0.7347, 0.0293, 0.7999])  y:  tensor(1)\n",
      " x:  tensor([0.3971, 0.7544, 0.5695])  y:  tensor(2)\n",
      " x:  tensor([0.4388, 0.6387, 0.5247])  y:  tensor(3)\n"
     ]
    }
   ],
   "execution_count": 8
  },
  {
   "metadata": {},
   "cell_type": "code",
   "outputs": [],
   "execution_count": null,
   "source": "",
   "id": "503648d2250afd92"
  }
 ],
 "metadata": {
  "kernelspec": {
   "display_name": "Python 3",
   "language": "python",
   "name": "python3"
  },
  "language_info": {
   "codemirror_mode": {
    "name": "ipython",
    "version": 2
   },
   "file_extension": ".py",
   "mimetype": "text/x-python",
   "name": "python",
   "nbconvert_exporter": "python",
   "pygments_lexer": "ipython2",
   "version": "2.7.6"
  }
 },
 "nbformat": 4,
 "nbformat_minor": 5
}
